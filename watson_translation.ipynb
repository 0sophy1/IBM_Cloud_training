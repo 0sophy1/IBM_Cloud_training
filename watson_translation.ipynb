{
 "cells": [
  {
   "cell_type": "code",
   "execution_count": 3,
   "metadata": {},
   "outputs": [
    {
     "name": "stdout",
     "output_type": "stream",
     "text": [
      "Requirement already up-to-date: ibm-watson in /usr/local/lib/python3.7/site-packages (4.5.0)\n",
      "Requirement already satisfied, skipping upgrade: ibm-cloud-sdk-core==1.5.1 in /usr/local/lib/python3.7/site-packages (from ibm-watson) (1.5.1)\n",
      "Requirement already satisfied, skipping upgrade: requests<3.0,>=2.0 in /usr/local/lib/python3.7/site-packages (from ibm-watson) (2.24.0)\n",
      "Requirement already satisfied, skipping upgrade: python-dateutil>=2.5.3 in /usr/local/lib/python3.7/site-packages (from ibm-watson) (2.8.1)\n",
      "Requirement already satisfied, skipping upgrade: websocket-client==0.48.0 in /usr/local/lib/python3.7/site-packages (from ibm-watson) (0.48.0)\n",
      "Requirement already satisfied, skipping upgrade: PyJWT>=1.7.1 in /usr/local/lib/python3.7/site-packages (from ibm-cloud-sdk-core==1.5.1->ibm-watson) (1.7.1)\n",
      "Requirement already satisfied, skipping upgrade: chardet<4,>=3.0.2 in /usr/local/lib/python3.7/site-packages (from requests<3.0,>=2.0->ibm-watson) (3.0.4)\n",
      "Requirement already satisfied, skipping upgrade: idna<3,>=2.5 in /usr/local/lib/python3.7/site-packages (from requests<3.0,>=2.0->ibm-watson) (2.10)\n",
      "Requirement already satisfied, skipping upgrade: urllib3!=1.25.0,!=1.25.1,<1.26,>=1.21.1 in /usr/local/lib/python3.7/site-packages (from requests<3.0,>=2.0->ibm-watson) (1.25.9)\n",
      "Requirement already satisfied, skipping upgrade: certifi>=2017.4.17 in /usr/local/lib/python3.7/site-packages (from requests<3.0,>=2.0->ibm-watson) (2020.6.20)\n",
      "Requirement already satisfied, skipping upgrade: six>=1.5 in /usr/local/lib/python3.7/site-packages (from python-dateutil>=2.5.3->ibm-watson) (1.15.0)\n",
      "Requirement already up-to-date: watson-developer-cloud in /usr/local/lib/python3.7/site-packages (2.10.1)\n",
      "Requirement already satisfied, skipping upgrade: requests<3.0,>=2.0 in /usr/local/lib/python3.7/site-packages (from watson-developer-cloud) (2.24.0)\n",
      "Requirement already satisfied, skipping upgrade: python-dateutil>=2.5.3 in /usr/local/lib/python3.7/site-packages (from watson-developer-cloud) (2.8.1)\n",
      "Requirement already satisfied, skipping upgrade: websocket-client==0.48.0 in /usr/local/lib/python3.7/site-packages (from watson-developer-cloud) (0.48.0)\n",
      "Requirement already satisfied, skipping upgrade: urllib3!=1.25.0,!=1.25.1,<1.26,>=1.21.1 in /usr/local/lib/python3.7/site-packages (from requests<3.0,>=2.0->watson-developer-cloud) (1.25.9)\n",
      "Requirement already satisfied, skipping upgrade: certifi>=2017.4.17 in /usr/local/lib/python3.7/site-packages (from requests<3.0,>=2.0->watson-developer-cloud) (2020.6.20)\n",
      "Requirement already satisfied, skipping upgrade: chardet<4,>=3.0.2 in /usr/local/lib/python3.7/site-packages (from requests<3.0,>=2.0->watson-developer-cloud) (3.0.4)\n",
      "Requirement already satisfied, skipping upgrade: idna<3,>=2.5 in /usr/local/lib/python3.7/site-packages (from requests<3.0,>=2.0->watson-developer-cloud) (2.10)\n",
      "Requirement already satisfied, skipping upgrade: six>=1.5 in /usr/local/lib/python3.7/site-packages (from python-dateutil>=2.5.3->watson-developer-cloud) (1.15.0)\n"
     ]
    }
   ],
   "source": [
    "!pip3 install --upgrade ibm-watson\n",
    "!pip3 install --upgrade watson-developer-cloud\n"
   ]
  },
  {
   "cell_type": "code",
   "execution_count": 6,
   "metadata": {},
   "outputs": [],
   "source": [
    "import sys\n",
    "import os\n",
    "sys.path.append(os.path.join(os.getcwd(),'..'))\n",
    "import json\n",
    "from ibm_watson import LanguageTranslatorV3\n",
    "from ibm_cloud_sdk_core.authenticators import IAMAuthenticator"
   ]
  },
  {
   "cell_type": "code",
   "execution_count": 76,
   "metadata": {},
   "outputs": [],
   "source": [
    "url = \"Your url. Copy from IBM cloud\"\n",
    "authenticator = IAMAuthenticator('Your apikey. Copy from IBM cloud')\n",
    "language_translator = LanguageTranslatorV3(\n",
    "    version='2018-05-01',\n",
    "    authenticator=authenticator)\n",
    "language_translator.set_service_url(url)"
   ]
  },
  {
   "cell_type": "code",
   "execution_count": 88,
   "metadata": {},
   "outputs": [
    {
     "ename": "SyntaxError",
     "evalue": "invalid syntax (<ipython-input-88-b6c3b055c371>, line 1)",
     "output_type": "error",
     "traceback": [
      "\u001b[0;36m  File \u001b[0;32m\"<ipython-input-88-b6c3b055c371>\"\u001b[0;36m, line \u001b[0;32m1\u001b[0m\n\u001b[0;31m    //간단한 번역 테스트\u001b[0m\n\u001b[0m     ^\u001b[0m\n\u001b[0;31mSyntaxError\u001b[0m\u001b[0;31m:\u001b[0m invalid syntax\n"
     ]
    }
   ],
   "source": [
    "#간단한 번역 테스트\n",
    "translation = language_translator.translate(\n",
    "    text='Hello', model_id='en-ko').get_result()\n",
    "print(json.dumps(translation, indent=2, ensure_ascii=False))"
   ]
  },
  {
   "cell_type": "code",
   "execution_count": 90,
   "metadata": {},
   "outputs": [
    {
     "name": "stdout",
     "output_type": "stream",
     "text": [
      "{\n",
      "  \"document_id\": \"fdea368a-cea8-4c34-b1b4-c27fc09084a3\",\n",
      "  \"filename\": \"en.txt\",\n",
      "  \"model_id\": \"en-ko\",\n",
      "  \"source\": \"en\",\n",
      "  \"target\": \"ko\",\n",
      "  \"status\": \"processing\",\n",
      "  \"created\": \"2020-07-20T02:29:17Z\"\n",
      "}\n"
     ]
    }
   ],
   "source": [
    "#서버로 번역할 파일 보내기\n",
    "with open('./en.txt', 'rb') as file:\n",
    "    result = language_translator.translate_document(\n",
    "        file=file,\n",
    "        file_content_type='text/plain',\n",
    "        filename='en.txt',\n",
    "        model_id='en-ko').get_result()\n",
    "    document_ID = result['document_id']\n",
    "    print(json.dumps(result, indent=2))\n"
   ]
  },
  {
   "cell_type": "code",
   "execution_count": 91,
   "metadata": {},
   "outputs": [
    {
     "name": "stdout",
     "output_type": "stream",
     "text": [
      "{\n",
      "  \"document_id\": \"fdea368a-cea8-4c34-b1b4-c27fc09084a3\",\n",
      "  \"filename\": \"en.txt\",\n",
      "  \"model_id\": \"en-ko\",\n",
      "  \"source\": \"en\",\n",
      "  \"target\": \"ko\",\n",
      "  \"status\": \"available\",\n",
      "  \"created\": \"2020-07-20T02:29:17Z\",\n",
      "  \"completed\": \"2020-07-20T02:29:18Z\",\n",
      "  \"word_count\": 1182,\n",
      "  \"character_count\": 6686\n",
      "}\n"
     ]
    }
   ],
   "source": [
    "#번역 상태 확인\n",
    "result = language_translator.get_document_status(\n",
    "    document_id=document_ID).get_result()\n",
    "print(json.dumps(result, indent=2))\n"
   ]
  },
  {
   "cell_type": "code",
   "execution_count": 92,
   "metadata": {},
   "outputs": [],
   "source": [
    "#번역한 내용을 저장하기\n",
    "with open('./translated.txt', 'wb') as f:\n",
    "    result = language_translator.get_translated_document(\n",
    "        document_id=document_ID,\n",
    "        accept='text/plain').get_result()\n",
    "    f.write(result.content)"
   ]
  },
  {
   "cell_type": "code",
   "execution_count": 94,
   "metadata": {},
   "outputs": [
    {
     "data": {
      "text/plain": [
       "<ibm_cloud_sdk_core.detailed_response.DetailedResponse at 0x1118ad990>"
      ]
     },
     "execution_count": 94,
     "metadata": {},
     "output_type": "execute_result"
    }
   ],
   "source": [
    "#서버에 남아있는 번역 결과물 삭제하기\n",
    "language_translator.delete_document(document_id=document_ID)"
   ]
  }
 ],
 "metadata": {
  "kernelspec": {
   "display_name": "Python 3",
   "language": "python",
   "name": "python3"
  },
  "language_info": {
   "codemirror_mode": {
    "name": "ipython",
    "version": 3
   },
   "file_extension": ".py",
   "mimetype": "text/x-python",
   "name": "python",
   "nbconvert_exporter": "python",
   "pygments_lexer": "ipython3",
   "version": "3.7.5"
  }
 },
 "nbformat": 4,
 "nbformat_minor": 4
}
