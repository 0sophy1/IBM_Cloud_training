{
 "cells": [
  {
   "cell_type": "code",
   "execution_count": 3,
   "metadata": {},
   "outputs": [
    {
     "name": "stdout",
     "output_type": "stream",
     "text": [
      "Requirement already up-to-date: ibm-watson in /usr/local/lib/python3.7/site-packages (4.5.0)\n",
      "Requirement already satisfied, skipping upgrade: ibm-cloud-sdk-core==1.5.1 in /usr/local/lib/python3.7/site-packages (from ibm-watson) (1.5.1)\n",
      "Requirement already satisfied, skipping upgrade: requests<3.0,>=2.0 in /usr/local/lib/python3.7/site-packages (from ibm-watson) (2.24.0)\n",
      "Requirement already satisfied, skipping upgrade: python-dateutil>=2.5.3 in /usr/local/lib/python3.7/site-packages (from ibm-watson) (2.8.1)\n",
      "Requirement already satisfied, skipping upgrade: websocket-client==0.48.0 in /usr/local/lib/python3.7/site-packages (from ibm-watson) (0.48.0)\n",
      "Requirement already satisfied, skipping upgrade: PyJWT>=1.7.1 in /usr/local/lib/python3.7/site-packages (from ibm-cloud-sdk-core==1.5.1->ibm-watson) (1.7.1)\n",
      "Requirement already satisfied, skipping upgrade: chardet<4,>=3.0.2 in /usr/local/lib/python3.7/site-packages (from requests<3.0,>=2.0->ibm-watson) (3.0.4)\n",
      "Requirement already satisfied, skipping upgrade: idna<3,>=2.5 in /usr/local/lib/python3.7/site-packages (from requests<3.0,>=2.0->ibm-watson) (2.10)\n",
      "Requirement already satisfied, skipping upgrade: urllib3!=1.25.0,!=1.25.1,<1.26,>=1.21.1 in /usr/local/lib/python3.7/site-packages (from requests<3.0,>=2.0->ibm-watson) (1.25.9)\n",
      "Requirement already satisfied, skipping upgrade: certifi>=2017.4.17 in /usr/local/lib/python3.7/site-packages (from requests<3.0,>=2.0->ibm-watson) (2020.6.20)\n",
      "Requirement already satisfied, skipping upgrade: six>=1.5 in /usr/local/lib/python3.7/site-packages (from python-dateutil>=2.5.3->ibm-watson) (1.15.0)\n",
      "Requirement already up-to-date: watson-developer-cloud in /usr/local/lib/python3.7/site-packages (2.10.1)\n",
      "Requirement already satisfied, skipping upgrade: requests<3.0,>=2.0 in /usr/local/lib/python3.7/site-packages (from watson-developer-cloud) (2.24.0)\n",
      "Requirement already satisfied, skipping upgrade: python-dateutil>=2.5.3 in /usr/local/lib/python3.7/site-packages (from watson-developer-cloud) (2.8.1)\n",
      "Requirement already satisfied, skipping upgrade: websocket-client==0.48.0 in /usr/local/lib/python3.7/site-packages (from watson-developer-cloud) (0.48.0)\n",
      "Requirement already satisfied, skipping upgrade: urllib3!=1.25.0,!=1.25.1,<1.26,>=1.21.1 in /usr/local/lib/python3.7/site-packages (from requests<3.0,>=2.0->watson-developer-cloud) (1.25.9)\n",
      "Requirement already satisfied, skipping upgrade: certifi>=2017.4.17 in /usr/local/lib/python3.7/site-packages (from requests<3.0,>=2.0->watson-developer-cloud) (2020.6.20)\n",
      "Requirement already satisfied, skipping upgrade: chardet<4,>=3.0.2 in /usr/local/lib/python3.7/site-packages (from requests<3.0,>=2.0->watson-developer-cloud) (3.0.4)\n",
      "Requirement already satisfied, skipping upgrade: idna<3,>=2.5 in /usr/local/lib/python3.7/site-packages (from requests<3.0,>=2.0->watson-developer-cloud) (2.10)\n",
      "Requirement already satisfied, skipping upgrade: six>=1.5 in /usr/local/lib/python3.7/site-packages (from python-dateutil>=2.5.3->watson-developer-cloud) (1.15.0)\n"
     ]
    }
   ],
   "source": [
    "!pip3 install --upgrade ibm-watson\n",
    "!pip3 install --upgrade watson-developer-cloud\n"
   ]
  },
  {
   "cell_type": "code",
   "execution_count": 6,
   "metadata": {},
   "outputs": [],
   "source": [
    "import sys\n",
    "import os\n",
    "sys.path.append(os.path.join(os.getcwd(),'..'))\n",
    "import json\n",
    "from ibm_watson import LanguageTranslatorV3\n",
    "from ibm_cloud_sdk_core.authenticators import IAMAuthenticator"
   ]
  },
  {
   "cell_type": "code",
   "execution_count": 76,
   "metadata": {},
   "outputs": [],
   "source": [
    "url = \"https://api.kr-seo.language-translator.watson.cloud.ibm.com/instances/f12b55d8-c65d-4686-a5a0-6a698de36249\"\n",
    "authenticator = IAMAuthenticator('nDpd0nV-5arMv2t0uAo37UwI0lkEzxBIaPlccaEnqElH')\n",
    "language_translator = LanguageTranslatorV3(\n",
    "    version='2018-05-01',\n",
    "    authenticator=authenticator)\n",
    "language_translator.set_service_url(url)"
   ]
  },
  {
   "cell_type": "code",
   "execution_count": 77,
   "metadata": {},
   "outputs": [
    {
     "name": "stdout",
     "output_type": "stream",
     "text": [
      "{\n",
      "  \"translations\": [\n",
      "    {\n",
      "      \"translation\": \"안녕하세요\"\n",
      "    }\n",
      "  ],\n",
      "  \"word_count\": 0,\n",
      "  \"character_count\": 5\n",
      "}\n"
     ]
    }
   ],
   "source": [
    "translation = language_translator.translate(\n",
    "    text='Hello', model_id='en-ko').get_result()\n",
    "print(json.dumps(translation, indent=2, ensure_ascii=False))"
   ]
  },
  {
   "cell_type": "code",
   "execution_count": 85,
   "metadata": {},
   "outputs": [
    {
     "name": "stdout",
     "output_type": "stream",
     "text": [
      "{\n",
      "  \"document_id\": \"69e22316-97d3-4ed4-9bc1-720b7f75bf2c\",\n",
      "  \"filename\": \"en.txt\",\n",
      "  \"model_id\": \"en-ko\",\n",
      "  \"source\": \"en\",\n",
      "  \"target\": \"ko\",\n",
      "  \"status\": \"processing\",\n",
      "  \"created\": \"2020-07-20T02:17:56Z\"\n",
      "}\n"
     ]
    }
   ],
   "source": [
    "with open('./en.txt', 'rb') as file:\n",
    "    result = language_translator.translate_document(\n",
    "        file=file,\n",
    "        file_content_type='text/plain',\n",
    "        filename='en.txt',\n",
    "        model_id='en-ko').get_result()\n",
    "    document_ID = result['document_id']\n",
    "    print(json.dumps(result, indent=2))\n"
   ]
  },
  {
   "cell_type": "code",
   "execution_count": 86,
   "metadata": {},
   "outputs": [
    {
     "name": "stdout",
     "output_type": "stream",
     "text": [
      "{\n",
      "  \"document_id\": \"69e22316-97d3-4ed4-9bc1-720b7f75bf2c\",\n",
      "  \"filename\": \"en.txt\",\n",
      "  \"model_id\": \"en-ko\",\n",
      "  \"source\": \"en\",\n",
      "  \"target\": \"ko\",\n",
      "  \"status\": \"available\",\n",
      "  \"created\": \"2020-07-20T02:17:56Z\",\n",
      "  \"completed\": \"2020-07-20T02:17:57Z\",\n",
      "  \"word_count\": 1182,\n",
      "  \"character_count\": 6686\n",
      "}\n"
     ]
    }
   ],
   "source": [
    "# Document Status\n",
    "result = language_translator.get_document_status(\n",
    "    document_id=document_ID).get_result()\n",
    "print(json.dumps(result, indent=2))\n"
   ]
  },
  {
   "cell_type": "code",
   "execution_count": 87,
   "metadata": {},
   "outputs": [],
   "source": [
    "with open('./translated.txt', 'wb') as f:\n",
    "    result = language_translator.get_translated_document(\n",
    "        document_id=document_ID,\n",
    "        accept='text/plain').get_result()\n",
    "    f.write(result.content)"
   ]
  },
  {
   "cell_type": "code",
   "execution_count": 57,
   "metadata": {},
   "outputs": [
    {
     "ename": "SyntaxError",
     "evalue": "invalid syntax (<ipython-input-57-17cd5a05917c>, line 1)",
     "output_type": "error",
     "traceback": [
      "\u001b[0;36m  File \u001b[0;32m\"<ipython-input-57-17cd5a05917c>\"\u001b[0;36m, line \u001b[0;32m1\u001b[0m\n\u001b[0;31m    curl -X GET \\\u001b[0m\n\u001b[0m              ^\u001b[0m\n\u001b[0;31mSyntaxError\u001b[0m\u001b[0;31m:\u001b[0m invalid syntax\n"
     ]
    }
   ],
   "source": []
  },
  {
   "cell_type": "code",
   "execution_count": null,
   "metadata": {},
   "outputs": [],
   "source": []
  }
 ],
 "metadata": {
  "kernelspec": {
   "display_name": "Python 3",
   "language": "python",
   "name": "python3"
  },
  "language_info": {
   "codemirror_mode": {
    "name": "ipython",
    "version": 3
   },
   "file_extension": ".py",
   "mimetype": "text/x-python",
   "name": "python",
   "nbconvert_exporter": "python",
   "pygments_lexer": "ipython3",
   "version": "3.7.5"
  }
 },
 "nbformat": 4,
 "nbformat_minor": 4
}
